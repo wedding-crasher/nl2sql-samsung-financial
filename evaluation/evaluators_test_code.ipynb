{
 "cells": [
  {
   "cell_type": "markdown",
   "id": "73eca674",
   "metadata": {},
   "source": [
    "### Here We test Evaluators Based\n",
    "- To assure the correctness of llm as a judge, we need to test with human-expert annotated data"
   ]
  },
  {
   "cell_type": "markdown",
   "id": "3e75e17d",
   "metadata": {},
   "source": []
  }
 ],
 "metadata": {
  "language_info": {
   "name": "python"
  }
 },
 "nbformat": 4,
 "nbformat_minor": 5
}
