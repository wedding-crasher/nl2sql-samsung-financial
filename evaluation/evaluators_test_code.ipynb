{
 "cells": [
  {
   "cell_type": "markdown",
   "id": "73eca674",
   "metadata": {},
   "source": [
    "# Here We test Evaluators Based\n",
    "- To assure the robustness of llm as a judge, we need to test with human-expert annotated data\n",
    "- Step1: Evaluate with only Negative data with existing dataset -> Calculate FP, TN\n",
    "- Step2: Evaluate with full positive and negative data by adding hand-made poistive set -> Calculate TP ,FN  "
   ]
  },
  {
   "cell_type": "markdown",
   "id": "54db0568",
   "metadata": {},
   "source": [
    "### Make Negative Evaluation-pipeline test set from nl2sql_bug set\n",
    "- Import nl2sql testest and create only-negative evaluation-pipeline test set "
   ]
  },
  {
   "cell_type": "code",
   "execution_count": 1,
   "id": "8269f6c7",
   "metadata": {},
   "outputs": [],
   "source": [
    "import pandas as pd\n",
    "from azureml.fsspec import AzureMachineLearningFileSystem\n",
    "from dotenv import load_dotenv\n",
    "import os\n",
    "import json"
   ]
  },
  {
   "cell_type": "code",
   "execution_count": 2,
   "id": "6e3011db",
   "metadata": {},
   "outputs": [
    {
     "name": "stderr",
     "output_type": "stream",
     "text": [
      "/anaconda/envs/nl2sql_ssfn/lib/python3.12/site-packages/requests/__init__.py:86: RequestsDependencyWarning: Unable to find acceptable character detection dependency (chardet or charset_normalizer).\n",
      "  warnings.warn(\n",
      "Overriding of current TracerProvider is not allowed\n",
      "Overriding of current LoggerProvider is not allowed\n",
      "Overriding of current MeterProvider is not allowed\n",
      "Attempting to instrument while already instrumented\n",
      "Attempting to instrument while already instrumented\n",
      "Attempting to instrument while already instrumented\n",
      "Attempting to instrument while already instrumented\n",
      "Attempting to instrument while already instrumented\n"
     ]
    },
    {
     "data": {
      "text/plain": [
       "['UI/']"
      ]
     },
     "execution_count": 2,
     "metadata": {},
     "output_type": "execute_result"
    }
   ],
   "source": [
    "load_dotenv()\n",
    "data_storage_uri = os.getenv(\"AZURE_DATASTORAGE_URI\")\n",
    "fs = AzureMachineLearningFileSystem(data_storage_uri)\n",
    "fs.ls()"
   ]
  },
  {
   "cell_type": "code",
   "execution_count": 3,
   "id": "65b98973",
   "metadata": {},
   "outputs": [
    {
     "data": {
      "text/plain": [
       "1019"
      ]
     },
     "execution_count": 3,
     "metadata": {},
     "output_type": "execute_result"
    }
   ],
   "source": [
    "with fs.open('./UI/2025-07-25_003545_UTC/NL2SQL-Bugs-with-evidence.json') as f:\n",
    "    data = json.load(f)\n",
    "\n",
    "nl2sql_bug_df = pd.DataFrame(data)\n",
    "nl2sql_bug_df[\"label\"] = nl2sql_bug_df[\"label\"].astype(bool)\n",
    "len(nl2sql_bug_df.loc[nl2sql_bug_df[\"label\"]== True])"
   ]
  },
  {
   "cell_type": "code",
   "execution_count": 4,
   "id": "7df8cb47",
   "metadata": {},
   "outputs": [
    {
     "name": "stdout",
     "output_type": "stream",
     "text": [
      "        id                                           question  \\\n",
      "1126  1126  Show me the season page of year when the race ...   \n",
      "1145  1145  Show me the season page of year when the race ...   \n",
      "\n",
      "                                               evidence      db_id  \\\n",
      "1126                      race number refers to raceId;  formula_1   \n",
      "1145  the season page refers to url; race number ref...  formula_1   \n",
      "\n",
      "                                                    sql  label error_types  \n",
      "1126  SELECT T2.url FROM races AS T1 INNER JOIN seas...   True          []  \n",
      "1145  SELECT T2.url FROM races AS T1 INNER JOIN seas...   True          []  \n",
      "['Show me the season page of year when the race No. 901 took place.']\n"
     ]
    }
   ],
   "source": [
    "# 같은 Question은 공유하고 SQL은 다르게 적힌 True 있나 확인\n",
    "dupes = (\n",
    "    nl2sql_bug_df[nl2sql_bug_df[\"label\"] == True]\n",
    "    .groupby(\"question\")\n",
    "    #그룹 객체 대상으로 람다실행하고, 조건을 마족하는 원래 DataFrame의 row반환\n",
    "    .filter(lambda x: len(x) > 1)\n",
    ")\n",
    "print(dupes) # 중복된 질문을 가진 True 라벨 row의 수\n",
    "print(dupes[\"question\"].unique())  # 어떤 question인지 보기\n",
    "\n"
   ]
  },
  {
   "cell_type": "code",
   "execution_count": 5,
   "id": "bb3884dd",
   "metadata": {},
   "outputs": [
    {
     "data": {
      "text/plain": [
       "1018"
      ]
     },
     "execution_count": 5,
     "metadata": {},
     "output_type": "execute_result"
    }
   ],
   "source": [
    "# 0) Make sure your label column is really boolean\n",
    "#    (if it's the strings \"True\"/\"False\" or ints 1/0, convert it)\n",
    "nl2sql_bug_df[\"label\"] = nl2sql_bug_df[\"label\"].astype(bool)\n",
    "\n",
    "# 1) Build a map from question → gold_sql (there must be at most one per question)\n",
    "gold_map = (\n",
    "    nl2sql_bug_df\n",
    "    # 조건을 이용해 행선택하는 함수 \n",
    "    .loc[nl2sql_bug_df[\"label\"]]\n",
    "    # 특정열을 인덱스로만 바꾸고, sql 만 선택  \n",
    "    .set_index(\"question\")[\"sql\"]\n",
    "    .to_dict()\n",
    ")\n",
    "\n",
    "len(gold_map)"
   ]
  },
  {
   "cell_type": "code",
   "execution_count": 6,
   "id": "04e0752e",
   "metadata": {},
   "outputs": [],
   "source": [
    "# 2) Walk through all FALSE‐label rows and emit one entry per pred_sql\n",
    "eval_pipeline_test_list = []\n",
    "for _, row in nl2sql_bug_df.loc[~nl2sql_bug_df[\"label\"]].iterrows():\n",
    "    q    = row[\"question\"]\n",
    "    pred = row[\"sql\"]\n",
    "    eval_pipeline_test_list.append({\n",
    "        \"question\":    q,\n",
    "        \"gold_sql\":    gold_map.get(q),       # ← will be None only if no True‐row ever existed\n",
    "        \"pred_sql\":    pred,\n",
    "        \"label\":       False,\n",
    "        \"evidence\":    row[\"evidence\"],\n",
    "        \"error_types\": row[\"error_types\"],\n",
    "    })\n",
    "\n"
   ]
  },
  {
   "cell_type": "code",
   "execution_count": 7,
   "id": "0a2fa26a",
   "metadata": {},
   "outputs": [],
   "source": [
    "eval_pipeline_test_df = pd.DataFrame(eval_pipeline_test_list)\n",
    "eval_pipeline_test_df[\"gold_sql\"].isnull().sum()\n",
    "eval_pipeline_test_df = eval_pipeline_test_df.loc[eval_pipeline_test_df[\"gold_sql\"].notnull()].copy()"
   ]
  },
  {
   "cell_type": "code",
   "execution_count": 8,
   "id": "54bf8204",
   "metadata": {},
   "outputs": [
    {
     "data": {
      "text/html": [
       "<div>\n",
       "<style scoped>\n",
       "    .dataframe tbody tr th:only-of-type {\n",
       "        vertical-align: middle;\n",
       "    }\n",
       "\n",
       "    .dataframe tbody tr th {\n",
       "        vertical-align: top;\n",
       "    }\n",
       "\n",
       "    .dataframe thead th {\n",
       "        text-align: right;\n",
       "    }\n",
       "</style>\n",
       "<table border=\"1\" class=\"dataframe\">\n",
       "  <thead>\n",
       "    <tr style=\"text-align: right;\">\n",
       "      <th></th>\n",
       "      <th>question</th>\n",
       "      <th>gold_sql</th>\n",
       "      <th>pred_sql</th>\n",
       "      <th>label</th>\n",
       "      <th>evidence</th>\n",
       "      <th>error_types</th>\n",
       "    </tr>\n",
       "  </thead>\n",
       "  <tbody>\n",
       "    <tr>\n",
       "      <th>0</th>\n",
       "      <td>What is the highest eligible free rate for K-1...</td>\n",
       "      <td>SELECT MAX(CAST(`Free Meal Count (K-12)` AS RE...</td>\n",
       "      <td>SELECT max(`free meal count (k-12)`) / max(`en...</td>\n",
       "      <td>False</td>\n",
       "      <td>Eligible free rate for K-12 = `Free Meal Count...</td>\n",
       "      <td>[{'error_type': 'Function-Related Errors', 'su...</td>\n",
       "    </tr>\n",
       "    <tr>\n",
       "      <th>1</th>\n",
       "      <td>Please list the lowest three eligible free rat...</td>\n",
       "      <td>SELECT T2.`Free Meal Count (Ages 5-17)` / T2.`...</td>\n",
       "      <td>SELECT min(`free meal count (ages 5-17)`) FROM...</td>\n",
       "      <td>False</td>\n",
       "      <td>Eligible free rates for students aged 5-17 = `...</td>\n",
       "      <td>[{'error_type': 'Attribute-Related Errors', 's...</td>\n",
       "    </tr>\n",
       "    <tr>\n",
       "      <th>2</th>\n",
       "      <td>Please list the zip code of all the charter sc...</td>\n",
       "      <td>SELECT T2.Zip FROM frpm AS T1 INNER JOIN schoo...</td>\n",
       "      <td>SELECT schools.zip FROM schools INNER JOIN frp...</td>\n",
       "      <td>False</td>\n",
       "      <td>Charter schools refers to `Charter School (Y/N...</td>\n",
       "      <td>[{'error_type': 'Value-Related Errors', 'sub_e...</td>\n",
       "    </tr>\n",
       "    <tr>\n",
       "      <th>3</th>\n",
       "      <td>What is the unabbreviated mailing street addre...</td>\n",
       "      <td>SELECT T2.MailStreet FROM frpm AS T1 INNER JOI...</td>\n",
       "      <td>SELECT schools.streetabr FROM frpm INNER JOIN ...</td>\n",
       "      <td>False</td>\n",
       "      <td></td>\n",
       "      <td>[{'error_type': 'Attribute-Related Errors', 's...</td>\n",
       "    </tr>\n",
       "    <tr>\n",
       "      <th>8</th>\n",
       "      <td>Among the schools with the SAT test takers of ...</td>\n",
       "      <td>SELECT T2.School FROM satscores AS T1 INNER JO...</td>\n",
       "      <td>SELECT schools.school FROM schools INNER JOIN ...</td>\n",
       "      <td>False</td>\n",
       "      <td>Magnet schools or offer a magnet program means...</td>\n",
       "      <td>[{'error_type': 'Attribute-Related Errors', 's...</td>\n",
       "    </tr>\n",
       "    <tr>\n",
       "      <th>...</th>\n",
       "      <td>...</td>\n",
       "      <td>...</td>\n",
       "      <td>...</td>\n",
       "      <td>...</td>\n",
       "      <td>...</td>\n",
       "      <td>...</td>\n",
       "    </tr>\n",
       "    <tr>\n",
       "      <th>986</th>\n",
       "      <td>For all the transactions happened during 8:00-...</td>\n",
       "      <td>SELECT count(transactions_1k.transactionid) FR...</td>\n",
       "      <td>select count(transactions_1k.transactionid) fr...</td>\n",
       "      <td>False</td>\n",
       "      <td>Czech Republic can be represented as the Count...</td>\n",
       "      <td>[{'error_type': 'Attribute-Related Errors', 's...</td>\n",
       "    </tr>\n",
       "    <tr>\n",
       "      <th>987</th>\n",
       "      <td>There's one customer spent 214582.17 in the Ju...</td>\n",
       "      <td>SELECT customers.currency FROM customers INNER...</td>\n",
       "      <td>select distinct customers.currency from custom...</td>\n",
       "      <td>False</td>\n",
       "      <td>June of 2013 means Date contains '201306' in t...</td>\n",
       "      <td>[{'error_type': 'Value-Related Errors', 'sub_e...</td>\n",
       "    </tr>\n",
       "    <tr>\n",
       "      <th>993</th>\n",
       "      <td>Which gas station has the highest amount of re...</td>\n",
       "      <td>SELECT gasstationid FROM transactions_1k GROUP...</td>\n",
       "      <td>select gasstations.gasstationid from gasstatio...</td>\n",
       "      <td>False</td>\n",
       "      <td></td>\n",
       "      <td>[{'error_type': 'Table-Related Errors', 'sub_e...</td>\n",
       "    </tr>\n",
       "    <tr>\n",
       "      <th>997</th>\n",
       "      <td>For all the people who paid more than 29.00 pe...</td>\n",
       "      <td>SELECT T1.Consumption FROM yearmonth AS T1 INN...</td>\n",
       "      <td>select distinct yearmonth.consumption from yea...</td>\n",
       "      <td>False</td>\n",
       "      <td>August of 2012 refers to the Date value = '201...</td>\n",
       "      <td>[{'error_type': 'Value-Related Errors', 'sub_e...</td>\n",
       "    </tr>\n",
       "    <tr>\n",
       "      <th>998</th>\n",
       "      <td>For all the people who paid more than 29.00 pe...</td>\n",
       "      <td>SELECT T1.Consumption FROM yearmonth AS T1 INN...</td>\n",
       "      <td>SELECT DISTINCT CASE WHEN sum(transactions_1k....</td>\n",
       "      <td>False</td>\n",
       "      <td>August of 2012 refers to the Date value = '201...</td>\n",
       "      <td>[{'error_type': 'Attribute-Related Errors', 's...</td>\n",
       "    </tr>\n",
       "  </tbody>\n",
       "</table>\n",
       "<p>549 rows × 6 columns</p>\n",
       "</div>"
      ],
      "text/plain": [
       "                                              question  \\\n",
       "0    What is the highest eligible free rate for K-1...   \n",
       "1    Please list the lowest three eligible free rat...   \n",
       "2    Please list the zip code of all the charter sc...   \n",
       "3    What is the unabbreviated mailing street addre...   \n",
       "8    Among the schools with the SAT test takers of ...   \n",
       "..                                                 ...   \n",
       "986  For all the transactions happened during 8:00-...   \n",
       "987  There's one customer spent 214582.17 in the Ju...   \n",
       "993  Which gas station has the highest amount of re...   \n",
       "997  For all the people who paid more than 29.00 pe...   \n",
       "998  For all the people who paid more than 29.00 pe...   \n",
       "\n",
       "                                              gold_sql  \\\n",
       "0    SELECT MAX(CAST(`Free Meal Count (K-12)` AS RE...   \n",
       "1    SELECT T2.`Free Meal Count (Ages 5-17)` / T2.`...   \n",
       "2    SELECT T2.Zip FROM frpm AS T1 INNER JOIN schoo...   \n",
       "3    SELECT T2.MailStreet FROM frpm AS T1 INNER JOI...   \n",
       "8    SELECT T2.School FROM satscores AS T1 INNER JO...   \n",
       "..                                                 ...   \n",
       "986  SELECT count(transactions_1k.transactionid) FR...   \n",
       "987  SELECT customers.currency FROM customers INNER...   \n",
       "993  SELECT gasstationid FROM transactions_1k GROUP...   \n",
       "997  SELECT T1.Consumption FROM yearmonth AS T1 INN...   \n",
       "998  SELECT T1.Consumption FROM yearmonth AS T1 INN...   \n",
       "\n",
       "                                              pred_sql  label  \\\n",
       "0    SELECT max(`free meal count (k-12)`) / max(`en...  False   \n",
       "1    SELECT min(`free meal count (ages 5-17)`) FROM...  False   \n",
       "2    SELECT schools.zip FROM schools INNER JOIN frp...  False   \n",
       "3    SELECT schools.streetabr FROM frpm INNER JOIN ...  False   \n",
       "8    SELECT schools.school FROM schools INNER JOIN ...  False   \n",
       "..                                                 ...    ...   \n",
       "986  select count(transactions_1k.transactionid) fr...  False   \n",
       "987  select distinct customers.currency from custom...  False   \n",
       "993  select gasstations.gasstationid from gasstatio...  False   \n",
       "997  select distinct yearmonth.consumption from yea...  False   \n",
       "998  SELECT DISTINCT CASE WHEN sum(transactions_1k....  False   \n",
       "\n",
       "                                              evidence  \\\n",
       "0    Eligible free rate for K-12 = `Free Meal Count...   \n",
       "1    Eligible free rates for students aged 5-17 = `...   \n",
       "2    Charter schools refers to `Charter School (Y/N...   \n",
       "3                                                        \n",
       "8    Magnet schools or offer a magnet program means...   \n",
       "..                                                 ...   \n",
       "986  Czech Republic can be represented as the Count...   \n",
       "987  June of 2013 means Date contains '201306' in t...   \n",
       "993                                                      \n",
       "997  August of 2012 refers to the Date value = '201...   \n",
       "998  August of 2012 refers to the Date value = '201...   \n",
       "\n",
       "                                           error_types  \n",
       "0    [{'error_type': 'Function-Related Errors', 'su...  \n",
       "1    [{'error_type': 'Attribute-Related Errors', 's...  \n",
       "2    [{'error_type': 'Value-Related Errors', 'sub_e...  \n",
       "3    [{'error_type': 'Attribute-Related Errors', 's...  \n",
       "8    [{'error_type': 'Attribute-Related Errors', 's...  \n",
       "..                                                 ...  \n",
       "986  [{'error_type': 'Attribute-Related Errors', 's...  \n",
       "987  [{'error_type': 'Value-Related Errors', 'sub_e...  \n",
       "993  [{'error_type': 'Table-Related Errors', 'sub_e...  \n",
       "997  [{'error_type': 'Value-Related Errors', 'sub_e...  \n",
       "998  [{'error_type': 'Attribute-Related Errors', 's...  \n",
       "\n",
       "[549 rows x 6 columns]"
      ]
     },
     "execution_count": 8,
     "metadata": {},
     "output_type": "execute_result"
    }
   ],
   "source": [
    "eval_pipeline_test_df"
   ]
  },
  {
   "cell_type": "markdown",
   "id": "d43e9581",
   "metadata": {},
   "source": [
    "### Evaluate llm-as-judge-raw-sql-evaluators \n",
    "- Testing with only False dataset"
   ]
  },
  {
   "cell_type": "code",
   "execution_count": 9,
   "id": "78726cf1",
   "metadata": {},
   "outputs": [
    {
     "name": "stdout",
     "output_type": "stream",
     "text": [
      "[INFO] Could not import AIAgentConverter. Please install the dependency with `pip install azure-ai-projects`.\n",
      "[INFO] Could not import SKAgentConverter. Please install the dependency with `pip install semantic-kernel`.\n"
     ]
    }
   ],
   "source": [
    "import sys\n",
    "import os\n",
    "from evaluators.llm_as_judge_raw_sql_evaluators import LLMasJudgeRawSQL\n",
    "from azure.ai.evaluation import AzureOpenAIModelConfiguration\n",
    "from dotenv import load_dotenv\n",
    "from tqdm import tqdm\n",
    "\n",
    "load_dotenv()\n",
    "\n",
    "model_config = AzureOpenAIModelConfiguration(\n",
    "    azure_endpoint= os.environ[\"AZURE_ENDPOINT\"],\n",
    "    azure_key = os.environ[\"AZURE_API_KEY\"],\n",
    "    azure_deployment = os.environ[\"AZURE_4O_DEPLOYMENT\"],\n",
    "    api_version = os.environ[\"AZURE_4O_API_VERSION\"]\n",
    ")\n"
   ]
  },
  {
   "cell_type": "code",
   "execution_count": null,
   "id": "529bcb89",
   "metadata": {},
   "outputs": [],
   "source": [
    "llm_sql_evaluator = LLMasJudgeRawSQL(model_config= model_config)\n",
    "llm_raw_sql_pipeline_eval_result = []\n",
    "for i, row in tqdm(eval_pipeline_test_df.iterrows(),ncols=100,colour=\"cyan\", total= len(eval_pipeline_test_df)):\n",
    "    question = row[\"question\"]\n",
    "    gold_sql = row[\"gold_sql\"]\n",
    "    pred_sql = row[\"pred_sql\"]\n",
    "\n",
    "    result = llm_sql_evaluator(question = question, gold_sql= gold_sql, pred_sql = pred_sql)\n",
    "    result = json.loads(result)\n",
    "    llm_raw_sql_pipeline_eval_result.append(\n",
    "        {\"question\": question, \"gold_sql\": gold_sql, \"pred_sql\": pred_sql, \"llm_judgement\": result[\"label\"], \"reason\": result[\"reason\"]}\n",
    "    )\n",
    "    print(f\"##### {i}th DEBUG LOG #####\")\n",
    "    print(\"Question:\", question )\n",
    "    print(\"Gold Sql:\", gold_sql)\n",
    "    print(\"Pred Sql:\", pred_sql)\n",
    "    print(\"LLM Judgement:\", result[\"label\"])\n",
    "    print(\"Reason:\", result[\"reason\"])\n",
    "\n",
    "\n"
   ]
  },
  {
   "cell_type": "code",
   "execution_count": 26,
   "id": "bd7d2962",
   "metadata": {},
   "outputs": [
    {
     "name": "stdout",
     "output_type": "stream",
     "text": [
      "Total: 551\n",
      "FP: 98\n",
      "TN: 453\n",
      "21.63355408388521\n"
     ]
    }
   ],
   "source": [
    "llm_raw_sql_pipeline_eval_df = pd.DataFrame(llm_raw_sql_pipeline_eval_result)\n",
    "\n",
    "#Join with Original Eval test set \n",
    "\n",
    "merged_llm_raw_sql_pipeline_eval_df = pd.merge(eval_pipeline_test_df, llm_raw_sql_pipeline_eval_df, on=\"pred_sql\", how='left')\n",
    "merged_llm_raw_sql_pipeline_eval_df.drop([\"question_y\",\"gold_sql_y\"], axis = 1)\n",
    "\n",
    "fp = len(merged_llm_raw_sql_pipeline_eval_df[merged_llm_raw_sql_pipeline_eval_df[\"llm_judgement\"] == \"correct\"])\n",
    "tn = len(merged_llm_raw_sql_pipeline_eval_df[merged_llm_raw_sql_pipeline_eval_df[\"llm_judgement\"] == \"incorrect\"])\n",
    "\n",
    "print(\"Total:\", len(merged_llm_raw_sql_pipeline_eval_df))\n",
    "print(\"FP:\", fp)\n",
    "print(\"TN:\", tn)\n",
    "print(fp/tn*100)\n"
   ]
  },
  {
   "cell_type": "code",
   "execution_count": null,
   "id": "1d2e2848",
   "metadata": {},
   "outputs": [],
   "source": []
  }
 ],
 "metadata": {
  "kernelspec": {
   "display_name": "nl2sql_ssfn",
   "language": "python",
   "name": "python3"
  },
  "language_info": {
   "codemirror_mode": {
    "name": "ipython",
    "version": 3
   },
   "file_extension": ".py",
   "mimetype": "text/x-python",
   "name": "python",
   "nbconvert_exporter": "python",
   "pygments_lexer": "ipython3",
   "version": "3.12.11"
  }
 },
 "nbformat": 4,
 "nbformat_minor": 5
}
