{
 "cells": [
  {
   "cell_type": "code",
   "execution_count": 1,
   "id": "2de403aa",
   "metadata": {},
   "outputs": [
    {
     "name": "stdout",
     "output_type": "stream",
     "text": [
      "Collecting nl2sql360\n",
      "  Downloading nl2sql360-1.1.0-py3-none-any.whl (65 kB)\n",
      "\u001b[2K     \u001b[90m━━━━━━━━━━━━━━━━━━━━━━━━━━━━━━━━━━━━━━━━\u001b[0m \u001b[32m65.1/65.1 kB\u001b[0m \u001b[31m4.1 MB/s\u001b[0m eta \u001b[36m0:00:00\u001b[0m\n",
      "\u001b[?25hCollecting pymysql\n",
      "  Downloading PyMySQL-1.1.1-py3-none-any.whl (44 kB)\n",
      "\u001b[2K     \u001b[90m━━━━━━━━━━━━━━━━━━━━━━━━━━━━━━━━━━━━━━━━\u001b[0m \u001b[32m45.0/45.0 kB\u001b[0m \u001b[31m5.3 MB/s\u001b[0m eta \u001b[36m0:00:00\u001b[0m\n",
      "\u001b[?25hCollecting sqlglot[rs]\n",
      "  Downloading sqlglot-27.4.1-py3-none-any.whl (489 kB)\n",
      "\u001b[2K     \u001b[90m━━━━━━━━━━━━━━━━━━━━━━━━━━━━━━━━━━━━━━\u001b[0m \u001b[32m489.4/489.4 kB\u001b[0m \u001b[31m23.8 MB/s\u001b[0m eta \u001b[36m0:00:00\u001b[0m\n",
      "\u001b[?25hRequirement already satisfied: pydantic in /anaconda/envs/azureml_py38/lib/python3.10/site-packages (from nl2sql360) (2.9.2)\n",
      "Collecting loguru\n",
      "  Downloading loguru-0.7.3-py3-none-any.whl (61 kB)\n",
      "\u001b[2K     \u001b[90m━━━━━━━━━━━━━━━━━━━━━━━━━━━━━━━━━━━━━━━━\u001b[0m \u001b[32m61.6/61.6 kB\u001b[0m \u001b[31m6.4 MB/s\u001b[0m eta \u001b[36m0:00:00\u001b[0m\n",
      "\u001b[?25hRequirement already satisfied: pandas in /anaconda/envs/azureml_py38/lib/python3.10/site-packages (from nl2sql360) (1.5.3)\n",
      "Collecting sqlalchemy\n",
      "  Downloading sqlalchemy-2.0.41-cp310-cp310-manylinux_2_17_x86_64.manylinux2014_x86_64.whl (3.2 MB)\n",
      "\u001b[2K     \u001b[90m━━━━━━━━━━━━━━━━━━━━━━━━━━━━━━━━━━━━━━━━\u001b[0m \u001b[32m3.2/3.2 MB\u001b[0m \u001b[31m36.3 MB/s\u001b[0m eta \u001b[36m0:00:00\u001b[0ma \u001b[36m0:00:01\u001b[0m\n",
      "\u001b[?25hRequirement already satisfied: tqdm in /anaconda/envs/azureml_py38/lib/python3.10/site-packages (from nl2sql360) (4.67.1)\n",
      "Collecting func-timeout\n",
      "  Downloading func_timeout-4.3.5.tar.gz (44 kB)\n",
      "\u001b[2K     \u001b[90m━━━━━━━━━━━━━━━━━━━━━━━━━━━━━━━━━━━━━━━━\u001b[0m \u001b[32m44.3/44.3 kB\u001b[0m \u001b[31m5.7 MB/s\u001b[0m eta \u001b[36m0:00:00\u001b[0m\n",
      "\u001b[?25h  Preparing metadata (setup.py) ... \u001b[?25ldone\n",
      "\u001b[?25hCollecting psycopg2-binary\n",
      "  Downloading psycopg2_binary-2.9.10-cp310-cp310-manylinux_2_17_x86_64.manylinux2014_x86_64.whl (3.0 MB)\n",
      "\u001b[2K     \u001b[90m━━━━━━━━━━━━━━━━━━━━━━━━━━━━━━━━━━━━━━━━\u001b[0m \u001b[32m3.0/3.0 MB\u001b[0m \u001b[31m98.4 MB/s\u001b[0m eta \u001b[36m0:00:00\u001b[0m\n",
      "\u001b[?25hRequirement already satisfied: numpy>=1.21.0 in /anaconda/envs/azureml_py38/lib/python3.10/site-packages (from pandas->nl2sql360) (1.23.5)\n",
      "Requirement already satisfied: python-dateutil>=2.8.1 in /anaconda/envs/azureml_py38/lib/python3.10/site-packages (from pandas->nl2sql360) (2.9.0.post0)\n",
      "Requirement already satisfied: pytz>=2020.1 in /anaconda/envs/azureml_py38/lib/python3.10/site-packages (from pandas->nl2sql360) (2022.5)\n",
      "Requirement already satisfied: pydantic-core==2.23.4 in /anaconda/envs/azureml_py38/lib/python3.10/site-packages (from pydantic->nl2sql360) (2.23.4)\n",
      "Requirement already satisfied: typing-extensions>=4.6.1 in /anaconda/envs/azureml_py38/lib/python3.10/site-packages (from pydantic->nl2sql360) (4.14.1)\n",
      "Requirement already satisfied: annotated-types>=0.6.0 in /anaconda/envs/azureml_py38/lib/python3.10/site-packages (from pydantic->nl2sql360) (0.7.0)\n",
      "Requirement already satisfied: greenlet>=1 in /anaconda/envs/azureml_py38/lib/python3.10/site-packages (from sqlalchemy->nl2sql360) (3.2.3)\n",
      "Collecting sqlglotrs==0.6.1\n",
      "  Downloading sqlglotrs-0.6.1-cp310-cp310-manylinux_2_17_x86_64.manylinux2014_x86_64.whl (340 kB)\n",
      "\u001b[2K     \u001b[90m━━━━━━━━━━━━━━━━━━━━━━━━━━━━━━━━━━━━━━\u001b[0m \u001b[32m340.8/340.8 kB\u001b[0m \u001b[31m10.7 MB/s\u001b[0m eta \u001b[36m0:00:00\u001b[0m\n",
      "\u001b[?25hRequirement already satisfied: six>=1.5 in /anaconda/envs/azureml_py38/lib/python3.10/site-packages (from python-dateutil>=2.8.1->pandas->nl2sql360) (1.17.0)\n",
      "Building wheels for collected packages: func-timeout\n",
      "  Building wheel for func-timeout (setup.py) ... \u001b[?25ldone\n",
      "\u001b[?25h  Created wheel for func-timeout: filename=func_timeout-4.3.5-py3-none-any.whl size=15130 sha256=2f87299133e62a61eafc7207ff621e4852b57221f8fb90f589e8bb73ef2b8238\n",
      "  Stored in directory: /home/azureuser/.cache/pip/wheels/ba/84/2c/a167012c6ee32c8d45ed2faae8ea0ee5840d96c3b423f74e50\n",
      "Successfully built func-timeout\n",
      "Installing collected packages: func-timeout, sqlglotrs, sqlglot, sqlalchemy, pymysql, psycopg2-binary, loguru, nl2sql360\n",
      "Successfully installed func-timeout-4.3.5 loguru-0.7.3 nl2sql360-1.1.0 psycopg2-binary-2.9.10 pymysql-1.1.1 sqlalchemy-2.0.41 sqlglot-27.4.1 sqlglotrs-0.6.1\n"
     ]
    }
   ],
   "source": [
    "!pip install nl2sql360"
   ]
  },
  {
   "cell_type": "code",
   "execution_count": 1,
   "id": "158a8345",
   "metadata": {},
   "outputs": [
    {
     "name": "stdout",
     "output_type": "stream",
     "text": [
      "/home/azureuser/workspace/nl2sql-samsung-finanical/evaluation/../nl2sql360/src/nl2sql360/__init__.py\n"
     ]
    }
   ],
   "source": [
    "import sys\n",
    "import importlib\n",
    "\n",
    "sys.path.insert(0, '../nl2sql360/src')\n",
    "import nl2sql360\n",
    "importlib.reload(nl2sql360)\n",
    "print(nl2sql360.__file__)  # 이때는 로컬 경로여야 함\n",
    "\n"
   ]
  },
  {
   "cell_type": "code",
   "execution_count": 2,
   "id": "8a8b3737",
   "metadata": {},
   "outputs": [
    {
     "name": "stderr",
     "output_type": "stream",
     "text": [
      "\u001b[32m2025-07-29 05:51:29.454\u001b[0m | \u001b[33m\u001b[1mWARNING \u001b[0m | \u001b[36mnl2sql360.core.core\u001b[0m:\u001b[36mimport_dataset\u001b[0m:\u001b[36m43\u001b[0m - \u001b[33m\u001b[1mDataset `bird_benchmark` has been already imported.\u001b[0m\n"
     ]
    }
   ],
   "source": [
    "\n",
    "from nl2sql360.core import Core\n",
    "from nl2sql360.arguments import CoreArguments, DatasetArguments\n",
    "\n",
    "\n",
    "core_args = CoreArguments()\n",
    "core = Core(core_args)\n",
    "\n",
    "dataset_args = DatasetArguments(\n",
    "    dataset_name = \"bird_benchmark\",\n",
    "    dataset_dir= \"../dataset/bird_benchmark\",\n",
    "    samples_file= \"dev.json\",\n",
    "    database_dir=\"dev_databases\",\n",
    "    tables_file=\"dev_tables.json\",\n",
    "    question_key=\"question\",\n",
    "    sql_key=\"SQL\",\n",
    "    db_id_key=\"db_id\",\n",
    "    sql_complexity_key = \"difficulty\",\n",
    "    database_domain_file=None\n",
    ")\n",
    "core.import_dataset(dataset_args)"
   ]
  },
  {
   "cell_type": "code",
   "execution_count": 3,
   "id": "e56e2824",
   "metadata": {},
   "outputs": [
    {
     "name": "stderr",
     "output_type": "stream",
     "text": [
      "\u001b[32m2025-07-29 05:51:30.610\u001b[0m | \u001b[32m\u001b[1mSUCCESS \u001b[0m | \u001b[36mnl2sql360.core.core\u001b[0m:\u001b[36mevaluate\u001b[0m:\u001b[36m97\u001b[0m - \u001b[32m\u001b[1mEvaluation table `DATASET_bird_benchmark_EVALUATION_Test_Eval_12` creation completed.\u001b[0m\n",
      "\u001b[32m2025-07-29 05:51:30.646\u001b[0m | \u001b[1mINFO    \u001b[0m | \u001b[36mnl2sql360.core.core\u001b[0m:\u001b[36mevaluate\u001b[0m:\u001b[36m173\u001b[0m - \u001b[1mEvaluating ['exec_acc']...\u001b[0m\n",
      "  0%|          | 6/1534 [00:00<00:28, 52.78it/s]"
     ]
    },
    {
     "name": "stderr",
     "output_type": "stream",
     "text": [
      "100%|██████████| 1534/1534 [19:55<00:00,  1.28it/s]   \n",
      "\u001b[32m2025-07-29 06:11:26.605\u001b[0m | \u001b[32m\u001b[1mSUCCESS \u001b[0m | \u001b[36mnl2sql360.core.core\u001b[0m:\u001b[36mevaluate\u001b[0m:\u001b[36m183\u001b[0m - \u001b[32m\u001b[1mEvaluating ['exec_acc'] completed.\u001b[0m\n",
      "\u001b[32m2025-07-29 06:11:26.607\u001b[0m | \u001b[1mINFO    \u001b[0m | \u001b[36mnl2sql360.core.core\u001b[0m:\u001b[36mevaluate\u001b[0m:\u001b[36m173\u001b[0m - \u001b[1mEvaluating ['ves']...\u001b[0m\n",
      " 99%|█████████▉| 1518/1534 [00:22<00:00, 194.85it/s]\u001b[32m2025-07-29 06:11:57.784\u001b[0m | \u001b[32m\u001b[1mSUCCESS \u001b[0m | \u001b[36mnl2sql360.core.core\u001b[0m:\u001b[36mevaluate\u001b[0m:\u001b[36m183\u001b[0m - \u001b[32m\u001b[1mEvaluating ['ves'] completed.\u001b[0m\n",
      "Intert into evaluation table: 100%|██████████| 1534/1534 [00:00<00:00, 9095.07it/s]\n",
      "\u001b[32m2025-07-29 06:11:58.020\u001b[0m | \u001b[32m\u001b[1mSUCCESS \u001b[0m | \u001b[36mnl2sql360.core.core\u001b[0m:\u001b[36mevaluate\u001b[0m:\u001b[36m203\u001b[0m - \u001b[32m\u001b[1mEvaluation `Test_Eval_12` completed.\u001b[0m\n"
     ]
    },
    {
     "name": "stderr",
     "output_type": "stream",
     "text": [
      "100%|██████████| 1534/1534 [00:34<00:00, 194.85it/s]"
     ]
    }
   ],
   "source": [
    "from nl2sql360.core import Core\n",
    "from nl2sql360.arguments import CoreArguments, EvaluationArguments\n",
    "import nest_asyncio\n",
    "\n",
    "nest_asyncio.apply()\n",
    "\n",
    "evaluation_args = EvaluationArguments(\n",
    "    eval_name=\"Test_Eval_12\",\n",
    "    eval_dataset = \"bird_benchmark\",\n",
    "    eval_metrics = [\"ex\", \"ves\"],\n",
    "    pred_sqls_file = \"../dataset/bird_benchmark/dev.sql\",\n",
    "    enable_spider_eval=True\n",
    "\n",
    ")\n",
    "core.evaluate(evaluation_args)"
   ]
  },
  {
   "cell_type": "code",
   "execution_count": 7,
   "id": "180f60b5",
   "metadata": {},
   "outputs": [
    {
     "name": "stdout",
     "output_type": "stream",
     "text": [
      "     Evaluation     EX\n",
      "0  Test_Eval_12  100.0\n",
      "     Evaluation   VES\n",
      "0  Test_Eval_12  2.21\n"
     ]
    }
   ],
   "source": [
    "from nl2sql360.core import Core\n",
    "from nl2sql360.arguments import CoreArguments, EvaluationArguments\n",
    "from nl2sql360.filter import Filter, Scenario, Field, Operator\n",
    "\n",
    "    \n",
    "SUBQUERY_FILTER = Filter(\n",
    "    name=\"subquery\",\n",
    "    field=Field.SUBQUERY,    \n",
    "    operator=Operator.GT,\n",
    "    value=0\n",
    "    )\n",
    "    \n",
    "BI_SCENARIO = Scenario(\n",
    "    name=\"BI\",\n",
    "    filters=[Filter('agg', Field.AGGREGATION, Operator.GT, 0), Filter('join', Field.JOIN, Operator.GT, 0)]\n",
    "    )\n",
    "\n",
    "#print(core.query_overall_leaderboard(dataset_name=\"bird_benchmark\", metric=\"ex\"))\n",
    "    \n",
    "# print(core.query_filter_performance(dataset_name=\"bird_benchmark\", metric=\"ex\", filter=filter, eval_name=\"Test_Eval_1\"))\n",
    "    \n",
    "# print(core.query_filter_leaderboard(dataset_name=\"bird_benchmark\", metric=\"ex\", filter=filter))\n",
    "    \n",
    "print(core.query_overall_performance(dataset_name=\"bird_benchmark\", metric=\"ex\", eval_name=\"Test_Eval_12\"))\n",
    "\n",
    "print(core.query_overall_performance(dataset_name=\"bird_benchmark\", metric=\"ves\", eval_name=\"Test_Eval_12\"))\n",
    "    \n",
    "# print(core.query_scenario_leaderboard(dataset_name=\"bird_benchmark\", metric=\"ex\", scenario=BI_SCENARIO))\n",
    "    \n",
    "# print(core.query_dataset_domain_distribution(dataset_name=\"bird_benchmark\"))\n",
    "\n",
    "# print(core.generate_evaluation_report(dataset_name=\"bird_benchmark\",\n",
    "#                                       filters=[SUBQUERY_FILTER],\n",
    "#                                       scenarios=[BI_SCENARIO],\n",
    "#                                       metrics=[\"ex\", \"ves\"]))\n",
    "    "
   ]
  },
  {
   "cell_type": "code",
   "execution_count": null,
   "id": "8e9223ab",
   "metadata": {},
   "outputs": [],
   "source": []
  }
 ],
 "metadata": {
  "kernelspec": {
   "display_name": "nl2sql_ssfn",
   "language": "python",
   "name": "python3"
  },
  "language_info": {
   "codemirror_mode": {
    "name": "ipython",
    "version": 3
   },
   "file_extension": ".py",
   "mimetype": "text/x-python",
   "name": "python",
   "nbconvert_exporter": "python",
   "pygments_lexer": "ipython3",
   "version": "3.12.11"
  }
 },
 "nbformat": 4,
 "nbformat_minor": 5
}
